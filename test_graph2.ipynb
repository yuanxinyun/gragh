{
 "cells": [
  {
   "cell_type": "code",
   "execution_count": null,
   "id": "3a0bf442",
   "metadata": {},
   "outputs": [],
   "source": []
  },
  {
   "cell_type": "code",
   "execution_count": 2,
   "id": "69cec00e",
   "metadata": {},
   "outputs": [],
   "source": [
    "import dgl\n",
    "import torch\n",
    "from dgl.data import DGLDataset\n",
    "from datetime import date, timedelta\n",
    "import os\n",
    "from dgl import save_graphs, load_graphs\n",
    "from dgl.data.utils import makedirs, save_info, load_info\n",
    "\n",
    "class MyDataset(DGLDataset):\n",
    "    def __init__(self):\n",
    "        super().__init__(name=\"my_dataset\")\n",
    "\n",
    "    def process(self):\n",
    "        graphs = []\n",
    "\n",
    "        start_date = date(2016, 1, 1)\n",
    "        end_date = date(2016, 12, 31)\n",
    "        delta = timedelta(days=1)\n",
    "        while start_date <= end_date:\n",
    "            # 根据日期生成文件名\n",
    "            file_name = \"2016/graph\" + start_date.strftime(\"%Y%m%d\") + \".dgl\"\n",
    "            (g,), _ = dgl.load_graphs(file_name)\n",
    "            graphs.append(g)\n",
    "            start_date += delta\n",
    "\n",
    "        self.graphs = graphs\n",
    "    def __getitem__(self, i):\n",
    "        # 返回第i个图\n",
    "        return self.graphs[i]\n",
    "\n",
    "    def __len__(self):\n",
    "        # 返回图的数量\n",
    "        return len(self.graphs)\n",
    "\n",
    "    def save(self):\n",
    "        graph_path = os.path.join(self.save_path, 'dgl_graph.bin')\n",
    "        save_graphs(str(graph_path), self.graphs)\n",
    "\n",
    "    def has_cache(self):\n",
    "        graph_path = os.path.join(self.save_path, 'dgl_graph.bin')\n",
    "        return os.path.exists(graph_path)\n",
    "\n",
    "    def load(self):\n",
    "        graphs, label_dict = load_graphs(os.path.join(self.save_path, 'dgl_graph.bin'))\n",
    "        self.graphs = graphs"
   ]
  },
  {
   "cell_type": "code",
   "execution_count": null,
   "id": "f909b5fa",
   "metadata": {},
   "outputs": [],
   "source": []
  },
  {
   "cell_type": "code",
   "execution_count": 109,
   "id": "0ef8fba3",
   "metadata": {},
   "outputs": [],
   "source": [
    "import dgl\n",
    "import torch\n",
    "import dgl.nn as dglnn\n",
    "import torch.nn as nn\n",
    "import torch.nn.functional as F\n",
    "\n",
    "class SAGE(nn.Module):\n",
    "    def __init__(self, in_feats, hid_feats, out_feats):\n",
    "        super().__init__()\n",
    "        self.conv1 = dglnn.SAGEConv(\n",
    "            in_feats=in_feats, out_feats=hid_feats, aggregator_type='mean')\n",
    "        self.conv2 = dglnn.SAGEConv(\n",
    "            in_feats=hid_feats, out_feats=out_feats, aggregator_type='mean')\n",
    "    \n",
    "    def forward(self, graph, inputs):\n",
    "        h = self.conv1(graph, inputs)\n",
    "        h = F.relu(h)\n",
    "        h = self.conv2(graph, h)\n",
    "        return h\n"
   ]
  },
  {
   "cell_type": "code",
   "execution_count": 4,
   "id": "0418c38a",
   "metadata": {},
   "outputs": [],
   "source": [
    "def evaluate(dataloader, device, model):\n",
    "    model.eval()\n",
    "    total_loss = 0\n",
    "    total_n = 0\n",
    "    for bg in dataloader:\n",
    "        with torch.no_grad():\n",
    "            bg=bg.to(device)\n",
    "            feats = bg.ndata['feat']\n",
    "            labels = bg.ndata['label']\n",
    "            #pred = model(bg, )\n",
    "            #print(feats)\n",
    "            #print(labels)\n",
    "            pred = model(bg, feats)\n",
    "            loss = F.mse_loss(pred, labels)\n",
    "            n = bg.ndata['feat'].shape[0]\n",
    "            total_loss +=n*loss.item()\n",
    "            total_n += n\n",
    "    total_loss /=total_n\n",
    "    return total_loss\n",
    "    "
   ]
  },
  {
   "cell_type": "code",
   "execution_count": null,
   "id": "d6cf6f48",
   "metadata": {},
   "outputs": [],
   "source": []
  },
  {
   "cell_type": "code",
   "execution_count": null,
   "id": "ba4aafdc",
   "metadata": {},
   "outputs": [],
   "source": []
  },
  {
   "cell_type": "code",
   "execution_count": null,
   "id": "4edf7329",
   "metadata": {},
   "outputs": [],
   "source": []
  },
  {
   "cell_type": "code",
   "execution_count": null,
   "id": "6915ef24",
   "metadata": {},
   "outputs": [],
   "source": []
  },
  {
   "cell_type": "code",
   "execution_count": null,
   "id": "264fa401",
   "metadata": {},
   "outputs": [],
   "source": []
  },
  {
   "cell_type": "code",
   "execution_count": 5,
   "id": "4d5331fe",
   "metadata": {},
   "outputs": [
    {
     "name": "stdout",
     "output_type": "stream",
     "text": [
      "使用设备: cuda\n"
     ]
    }
   ],
   "source": [
    "# 检查是否有GPU可用\n",
    "device = torch.device('cuda' if torch.cuda.is_available() else 'cpu')\n",
    "\n",
    "print('使用设备:', device)"
   ]
  },
  {
   "cell_type": "code",
   "execution_count": null,
   "id": "bf9ff3fa",
   "metadata": {},
   "outputs": [],
   "source": []
  },
  {
   "cell_type": "code",
   "execution_count": 6,
   "id": "f09a486f",
   "metadata": {},
   "outputs": [
    {
     "name": "stdout",
     "output_type": "stream",
     "text": [
      "Dataset(\"my_dataset\", num_graphs=366, save_path=C:\\Users\\22929\\.dgl\\my_dataset)\n"
     ]
    }
   ],
   "source": [
    "# 创建数据集\n",
    "dataset = MyDataset()\n",
    "# 打印数据集的信息\n",
    "print(dataset)"
   ]
  },
  {
   "cell_type": "code",
   "execution_count": 7,
   "id": "951b19e8",
   "metadata": {},
   "outputs": [
    {
     "data": {
      "text/plain": [
       "Dataset(\"my_dataset\", num_graphs=366, save_path=C:\\Users\\22929\\.dgl\\my_dataset)"
      ]
     },
     "execution_count": 7,
     "metadata": {},
     "output_type": "execute_result"
    }
   ],
   "source": [
    "dataset"
   ]
  },
  {
   "cell_type": "code",
   "execution_count": null,
   "id": "b6a446eb",
   "metadata": {},
   "outputs": [],
   "source": []
  },
  {
   "cell_type": "code",
   "execution_count": null,
   "id": "ea39f784",
   "metadata": {},
   "outputs": [],
   "source": []
  },
  {
   "cell_type": "code",
   "execution_count": null,
   "id": "3fc0f7a5",
   "metadata": {},
   "outputs": [],
   "source": []
  },
  {
   "cell_type": "code",
   "execution_count": 8,
   "id": "cb66d365",
   "metadata": {},
   "outputs": [],
   "source": [
    "from dgl.data.utils import split_dataset\n",
    "# 加载你的数据集\n",
    "dataset = MyDataset()\n",
    "# 划分数据集，比例为[0.8, 0.1, 0.1]，即前80%为训练集，后10%为测试集，再后10%为验证集\n",
    "# 设置随机种子为2023，保证每次划分的结果一致\n",
    "train_set, test_set, val_set = split_dataset(dataset, frac_list=[0.8, 0.1, 0.1], shuffle=True, random_state=2023)\n"
   ]
  },
  {
   "cell_type": "code",
   "execution_count": 9,
   "id": "72e30c16",
   "metadata": {},
   "outputs": [
    {
     "data": {
      "text/plain": [
       "Graph(num_nodes=9821, num_edges=56126,\n",
       "      ndata_schemes={'O_WSPD': Scheme(shape=(1,), dtype=torch.float32), 'CRS_DEP_TIME': Scheme(shape=(1,), dtype=torch.float32), 'DEP_DELAY': Scheme(shape=(1,), dtype=torch.float32), 'CRS_ARR_TIME': Scheme(shape=(1,), dtype=torch.float32), 'WHEELS_OFF': Scheme(shape=(1,), dtype=torch.float32), 'O_LATITUDE': Scheme(shape=(1,), dtype=torch.float32), 'ARR_DELAY': Scheme(shape=(1,), dtype=torch.float32), 'DEST': Scheme(shape=(1,), dtype=torch.float32), 'ORIGIN': Scheme(shape=(1,), dtype=torch.float32), 'O_LONGITUDE': Scheme(shape=(1,), dtype=torch.float32), 'D_LATITUDE': Scheme(shape=(1,), dtype=torch.float32), 'D_LONGITUDE': Scheme(shape=(1,), dtype=torch.float32), 'DISTANCE': Scheme(shape=(1,), dtype=torch.float32), 'O_TEMP': Scheme(shape=(1,), dtype=torch.float32), 'O_PRCP': Scheme(shape=(1,), dtype=torch.float32), 'D_TEMP': Scheme(shape=(1,), dtype=torch.float32), 'D_PRCP': Scheme(shape=(1,), dtype=torch.float32), 'feat': Scheme(shape=(15,), dtype=torch.float32), 'D_WSPD': Scheme(shape=(1,), dtype=torch.float32), 'MONTH': Scheme(shape=(1,), dtype=torch.float32), 'DAY_OF_WEEK': Scheme(shape=(1,), dtype=torch.float32), 'CRS_ARR_TIME_HOUR': Scheme(shape=(1,), dtype=torch.float32), 'ORIGIN_LEVEL': Scheme(shape=(1,), dtype=torch.float32), 'DEST_LEVEL': Scheme(shape=(1,), dtype=torch.float32), 'CRS_DEP_TIME_HOUR': Scheme(shape=(1,), dtype=torch.float32), 'label': Scheme(shape=(1,), dtype=torch.float32)}\n",
       "      edata_schemes={'INTERVAL_TIME': Scheme(shape=(1,), dtype=torch.float32), 'AIRCRAFT_NUM': Scheme(shape=(1,), dtype=torch.float32), 'AIRPORT': Scheme(shape=(1,), dtype=torch.float32)})"
      ]
     },
     "execution_count": 9,
     "metadata": {},
     "output_type": "execute_result"
    }
   ],
   "source": [
    "train_set[291]"
   ]
  },
  {
   "cell_type": "code",
   "execution_count": 10,
   "id": "c64fbea3",
   "metadata": {},
   "outputs": [
    {
     "name": "stdout",
     "output_type": "stream",
     "text": [
      "<dgl.data.utils.Subset object at 0x000002247301D448>\n"
     ]
    }
   ],
   "source": [
    "print(train_set)"
   ]
  },
  {
   "cell_type": "code",
   "execution_count": null,
   "id": "8c466090",
   "metadata": {},
   "outputs": [],
   "source": []
  },
  {
   "cell_type": "code",
   "execution_count": 11,
   "id": "bf914097",
   "metadata": {},
   "outputs": [],
   "source": [
    "from dgl.dataloading import GraphDataLoader\n",
    "train_dataloader = GraphDataLoader(train_set, batch_size=20, shuffle=True, num_workers=0)\n",
    "test_dataloader = GraphDataLoader(test_set, batch_size=20, shuffle=True, num_workers=0)\n",
    "val_dataloader = GraphDataLoader(val_set, batch_size=20, shuffle=True, num_workers=0)\n"
   ]
  },
  {
   "cell_type": "code",
   "execution_count": null,
   "id": "437684a1",
   "metadata": {},
   "outputs": [],
   "source": []
  },
  {
   "cell_type": "code",
   "execution_count": 12,
   "id": "a085b7b1",
   "metadata": {},
   "outputs": [
    {
     "data": {
      "text/plain": [
       "15"
      ]
     },
     "execution_count": 12,
     "metadata": {},
     "output_type": "execute_result"
    }
   ],
   "source": [
    "train_set[0].ndata['feat'].shape[1]"
   ]
  },
  {
   "cell_type": "code",
   "execution_count": 13,
   "id": "8ff2cd7d",
   "metadata": {},
   "outputs": [
    {
     "data": {
      "text/plain": [
       "11276"
      ]
     },
     "execution_count": 13,
     "metadata": {},
     "output_type": "execute_result"
    }
   ],
   "source": [
    "train_set[0].ndata['feat'].shape[0]"
   ]
  },
  {
   "cell_type": "code",
   "execution_count": null,
   "id": "b8c00a64",
   "metadata": {},
   "outputs": [],
   "source": []
  },
  {
   "cell_type": "code",
   "execution_count": 14,
   "id": "f0783349",
   "metadata": {},
   "outputs": [],
   "source": [
    "from dgl.dataloading import GraphDataLoader\n",
    "train_dataloader = GraphDataLoader(train_set, batch_size=20, shuffle=True, num_workers=0)\n",
    "test_dataloader = GraphDataLoader(test_set, batch_size=20, shuffle=True, num_workers=0)\n",
    "val_dataloader = GraphDataLoader(val_set, batch_size=20, shuffle=True, num_workers=0)\n",
    "\n",
    "\n",
    "\n"
   ]
  },
  {
   "cell_type": "code",
   "execution_count": null,
   "id": "7276f0ac",
   "metadata": {},
   "outputs": [],
   "source": []
  },
  {
   "cell_type": "code",
   "execution_count": null,
   "id": "205793f6",
   "metadata": {},
   "outputs": [],
   "source": []
  },
  {
   "cell_type": "code",
   "execution_count": null,
   "id": "507ab75d",
   "metadata": {},
   "outputs": [],
   "source": []
  },
  {
   "cell_type": "code",
   "execution_count": null,
   "id": "fb1c735f",
   "metadata": {},
   "outputs": [],
   "source": []
  },
  {
   "cell_type": "code",
   "execution_count": 108,
   "id": "8f8cbf17",
   "metadata": {},
   "outputs": [
    {
     "name": "stdout",
     "output_type": "stream",
     "text": [
      "Epoch 00000 | Loss 52369.3245 | Train Acc. 22558.0971 | Validation Acc. 24214.7330 \n",
      "Epoch 00001 | Loss 7748.7211 | Train Acc. 1856.3493 | Validation Acc. 1839.8234 \n",
      "Epoch 00002 | Loss 3027.4401 | Train Acc. 2593.7998 | Validation Acc. 2581.8084 \n",
      "Epoch 00003 | Loss 1920.5899 | Train Acc. 1786.5920 | Validation Acc. 1792.0623 \n",
      "Epoch 00004 | Loss 1677.5483 | Train Acc. 1639.9093 | Validation Acc. 1607.7353 \n",
      "Epoch 00005 | Loss 1648.0189 | Train Acc. 1643.0016 | Validation Acc. 1624.6812 \n",
      "Epoch 00006 | Loss 1626.7596 | Train Acc. 1619.8791 | Validation Acc. 1597.9356 \n",
      "Epoch 00007 | Loss 1620.4461 | Train Acc. 1617.3071 | Validation Acc. 1596.0421 \n",
      "Epoch 00008 | Loss 1618.4922 | Train Acc. 1623.5575 | Validation Acc. 1608.1615 \n",
      "Epoch 00009 | Loss 1616.6923 | Train Acc. 1639.5169 | Validation Acc. 1610.9838 \n",
      "Training took 19.10116780000044 seconds.\n"
     ]
    }
   ],
   "source": [
    "\n",
    "import time \n",
    "start_time = time.perf_counter() \n",
    "\n",
    "loss_list = []\n",
    "loss_test_list = []\n",
    "\n",
    "\n",
    "# 输入特征维度\n",
    "n_features = train_set[0].ndata['feat'].shape[1]\n",
    "\n",
    "# 实例化一个SAGE模型\n",
    "model = SAGE(in_feats=n_features, hid_feats=300, out_feats=1)\n",
    "model = model.to(device)\n",
    "opt = torch.optim.Adam(model.parameters(), lr=0.01) \n",
    "\n",
    "\n",
    "\n",
    "for epoch in range(10):\n",
    "    model.train()\n",
    "    total_loss = 0\n",
    "    total_n = 0\n",
    "    for bg in train_dataloader:\n",
    "        bg = bg.to(device)\n",
    "        #pred = model(g, )\n",
    "        #print(bg)\n",
    "        feats = bg.ndata['feat']\n",
    "        labels = bg.ndata['label']\n",
    "        #pred = model(bg, )\n",
    "        #print(feats)\n",
    "        #print(labels)\n",
    "        \n",
    "        pred = model(bg, feats)\n",
    "        loss = F.mse_loss(pred, labels)\n",
    "        opt.zero_grad()\n",
    "        loss.backward()\n",
    "        opt.step()\n",
    "        #print(loss.item())\n",
    "        n = bg.ndata['feat'].shape[0]\n",
    "        total_loss +=n*loss.item()\n",
    "        total_n += n\n",
    "    total_loss /=total_n \n",
    "    train_loss = evaluate(train_dataloader, device, model)\n",
    "    valid_loss = evaluate(val_dataloader, device, model)\n",
    "    loss_list.append(total_loss)\n",
    "    loss_test_list.append(train_loss)\n",
    "    print(\n",
    "        \"Epoch {:05d} | Loss {:.4f} | Train Acc. {:.4f} | Validation Acc. {:.4f} \".format(\n",
    "            epoch, total_loss , train_loss, valid_loss\n",
    "        )\n",
    "    )\n",
    "    \n",
    "    \n",
    "    \n",
    "    #print(total_n)    \n",
    "    #print(f\"epoch={epoch}\")  \n",
    "    #print(f\"total_loss={total_loss}\")    \n",
    "        \n",
    "    '''\n",
    "    train_pred = model(train_g, train_features)\n",
    "    train_loss = F.mse_loss(train_pred, train_labels)\n",
    "    valid_pred = model(valid_g, valid_features)\n",
    "    valid_loss = F.mse_loss(valid_pred, valid_labels)\n",
    "    test_pred = model(test_g, test_features)\n",
    "    test_loss = F.mse_loss(test_pred, test_labels)\n",
    "    opt.zero_grad()\n",
    "    train_loss.backward()\n",
    "    opt.step()\n",
    "    # 将损失值添加到列表中\n",
    "    loss_list.append(train_loss.item())\n",
    "    loss_test_list.append(test_loss.item())\n",
    "    '''\n",
    "\n",
    "end_time = time.perf_counter() \n",
    "elapsed_time = end_time - start_time \n",
    "print(f\"Training took {elapsed_time} seconds.\") "
   ]
  },
  {
   "cell_type": "code",
   "execution_count": null,
   "id": "3c07a4e7",
   "metadata": {},
   "outputs": [],
   "source": []
  },
  {
   "cell_type": "code",
   "execution_count": null,
   "id": "788ea40f",
   "metadata": {},
   "outputs": [],
   "source": []
  },
  {
   "cell_type": "code",
   "execution_count": 96,
   "id": "ea8b9a8f",
   "metadata": {},
   "outputs": [
    {
     "data": {
      "image/png": "[encoded data removed]",
      "text/plain": [
       "<Figure size 432x288 with 1 Axes>"
      ]
     },
     "metadata": {
      "needs_background": "light"
     },
     "output_type": "display_data"
    }
   ],
   "source": [
    "import matplotlib.pyplot as plt\n",
    "import numpy as np\n",
    "\n",
    "loss_train = np.array(loss_list)\n",
    "#loss_test = np.array(loss_test_list)\n",
    "loss_test = np.array(loss_test_list)\n",
    "# 绘制训练集和测试集的损失曲线\n",
    "plt.plot(loss_train, label=\"Train loss\")\n",
    "plt.plot(loss_test, label=\"Test loss\")\n",
    "plt.xlabel(\"Epoch\")\n",
    "plt.ylabel(\"Loss\")\n",
    "plt.title(\"Loss Curve\")\n",
    "plt.legend()\n",
    "plt.savefig(\"loss_plot.png\", dpi=1000)\n",
    "plt.show()\n",
    "\n",
    "\n"
   ]
  },
  {
   "cell_type": "code",
   "execution_count": 97,
   "id": "9ad04141",
   "metadata": {},
   "outputs": [
    {
     "data": {
      "text/plain": [
       "SAGE(\n",
       "  (conv1): SAGEConv(\n",
       "    (feat_drop): Dropout(p=0.0, inplace=False)\n",
       "    (fc_self): Linear(in_features=15, out_features=300, bias=False)\n",
       "    (fc_neigh): Linear(in_features=15, out_features=300, bias=False)\n",
       "  )\n",
       "  (conv2): SAGEConv(\n",
       "    (feat_drop): Dropout(p=0.0, inplace=False)\n",
       "    (fc_self): Linear(in_features=300, out_features=1, bias=False)\n",
       "    (fc_neigh): Linear(in_features=300, out_features=1, bias=False)\n",
       "  )\n",
       ")"
      ]
     },
     "execution_count": 97,
     "metadata": {},
     "output_type": "execute_result"
    }
   ],
   "source": [
    "model"
   ]
  },
  {
   "cell_type": "code",
   "execution_count": null,
   "id": "946384d0",
   "metadata": {},
   "outputs": [],
   "source": []
  },
  {
   "cell_type": "code",
   "execution_count": 98,
   "id": "9938d32d",
   "metadata": {},
   "outputs": [],
   "source": [
    "g1_test=test_set[4].to(device)\n",
    "feat_test=g1_test.ndata['feat'].to(device)\n",
    "label_test=g1_test.ndata['label'].to(device)"
   ]
  },
  {
   "cell_type": "code",
   "execution_count": 99,
   "id": "cb4a445c",
   "metadata": {},
   "outputs": [
    {
     "name": "stdout",
     "output_type": "stream",
     "text": [
      "Graph(num_nodes=12631, num_edges=79101,\n",
      "      ndata_schemes={'O_WSPD': Scheme(shape=(1,), dtype=torch.float32), 'CRS_DEP_TIME': Scheme(shape=(1,), dtype=torch.float32), 'DEP_DELAY': Scheme(shape=(1,), dtype=torch.float32), 'CRS_ARR_TIME': Scheme(shape=(1,), dtype=torch.float32), 'WHEELS_OFF': Scheme(shape=(1,), dtype=torch.float32), 'O_LATITUDE': Scheme(shape=(1,), dtype=torch.float32), 'ARR_DELAY': Scheme(shape=(1,), dtype=torch.float32), 'DEST': Scheme(shape=(1,), dtype=torch.float32), 'ORIGIN': Scheme(shape=(1,), dtype=torch.float32), 'O_LONGITUDE': Scheme(shape=(1,), dtype=torch.float32), 'D_LATITUDE': Scheme(shape=(1,), dtype=torch.float32), 'D_LONGITUDE': Scheme(shape=(1,), dtype=torch.float32), 'DISTANCE': Scheme(shape=(1,), dtype=torch.float32), 'O_TEMP': Scheme(shape=(1,), dtype=torch.float32), 'O_PRCP': Scheme(shape=(1,), dtype=torch.float32), 'D_TEMP': Scheme(shape=(1,), dtype=torch.float32), 'D_PRCP': Scheme(shape=(1,), dtype=torch.float32), 'feat': Scheme(shape=(15,), dtype=torch.float32), 'D_WSPD': Scheme(shape=(1,), dtype=torch.float32), 'MONTH': Scheme(shape=(1,), dtype=torch.float32), 'DAY_OF_WEEK': Scheme(shape=(1,), dtype=torch.float32), 'CRS_ARR_TIME_HOUR': Scheme(shape=(1,), dtype=torch.float32), 'ORIGIN_LEVEL': Scheme(shape=(1,), dtype=torch.float32), 'DEST_LEVEL': Scheme(shape=(1,), dtype=torch.float32), 'CRS_DEP_TIME_HOUR': Scheme(shape=(1,), dtype=torch.float32), 'label': Scheme(shape=(1,), dtype=torch.float32)}\n",
      "      edata_schemes={'INTERVAL_TIME': Scheme(shape=(1,), dtype=torch.float32), 'AIRCRAFT_NUM': Scheme(shape=(1,), dtype=torch.float32), 'AIRPORT': Scheme(shape=(1,), dtype=torch.float32)})\n",
      "tensor([[ 33.9388, -81.1195,  33.6404,  ...,   4.0000,   6.0000,  19.0000],\n",
      "        [ 33.6404, -84.4269,  41.9796,  ...,   6.0000,   6.0000,  13.0000],\n",
      "        [ 41.9796, -87.9045,  35.2140,  ...,   6.0000,   6.0000,  14.0000],\n",
      "        ...,\n",
      "        [  0.0000,   0.0000,   0.0000,  ...,   0.0000,   0.0000,   0.0000],\n",
      "        [  0.0000,   0.0000,   0.0000,  ...,   0.0000,   0.0000,   0.0000],\n",
      "        [  0.0000,   0.0000,   0.0000,  ...,   0.0000,   0.0000,   0.0000]],\n",
      "       device='cuda:0')\n",
      "tensor([[-8.],\n",
      "        [ 4.],\n",
      "        [ 0.],\n",
      "        ...,\n",
      "        [ 0.],\n",
      "        [ 0.],\n",
      "        [ 0.]], device='cuda:0')\n"
     ]
    }
   ],
   "source": [
    "print(g1_test)\n",
    "print(feat_test)\n",
    "print(label_test)"
   ]
  },
  {
   "cell_type": "code",
   "execution_count": null,
   "id": "5020e4e2",
   "metadata": {},
   "outputs": [],
   "source": []
  },
  {
   "cell_type": "code",
   "execution_count": 100,
   "id": "b659360f",
   "metadata": {},
   "outputs": [],
   "source": [
    "test_pred=model(g1_test,feat_test)"
   ]
  },
  {
   "cell_type": "code",
   "execution_count": 101,
   "id": "dea7d889",
   "metadata": {},
   "outputs": [
    {
     "data": {
      "text/plain": [
       "tensor([[-5.3180],\n",
       "        [ 0.4129],\n",
       "        [ 1.0339],\n",
       "        ...,\n",
       "        [-3.8799],\n",
       "        [-3.8799],\n",
       "        [-3.8799]], device='cuda:0', grad_fn=<AddBackward0>)"
      ]
     },
     "execution_count": 101,
     "metadata": {},
     "output_type": "execute_result"
    }
   ],
   "source": [
    "test_pred"
   ]
  },
  {
   "cell_type": "code",
   "execution_count": 102,
   "id": "644a064d",
   "metadata": {},
   "outputs": [
    {
     "data": {
      "text/plain": [
       "tensor([[-8.],\n",
       "        [ 4.],\n",
       "        [ 0.],\n",
       "        ...,\n",
       "        [ 0.],\n",
       "        [ 0.],\n",
       "        [ 0.]], device='cuda:0')"
      ]
     },
     "execution_count": 102,
     "metadata": {},
     "output_type": "execute_result"
    }
   ],
   "source": [
    "label_test"
   ]
  },
  {
   "cell_type": "code",
   "execution_count": 103,
   "id": "b34415ce",
   "metadata": {},
   "outputs": [],
   "source": [
    "labels=label_test"
   ]
  },
  {
   "cell_type": "code",
   "execution_count": null,
   "id": "35f2d750",
   "metadata": {},
   "outputs": [],
   "source": []
  },
  {
   "cell_type": "code",
   "execution_count": 107,
   "id": "f6140cd5",
   "metadata": {},
   "outputs": [
    {
     "data": {
      "image/png": "[encoded data removed]",
      "text/plain": [
       "<Figure size 432x288 with 1 Axes>"
      ]
     },
     "metadata": {
      "needs_background": "light"
     },
     "output_type": "display_data"
    }
   ],
   "source": [
    "import matplotlib.pyplot as plt\n",
    "import numpy as np\n",
    "\n",
    "\n",
    "# 对测试集中的一些节点进行预测和比较\n",
    "#nodes = [1, 6, 9, 55, 554, 364, 51, 166, 244, 365, 644, 431, 2, 65]\n",
    "nodes=np.arange(1,100,1)\n",
    "#nodes=np.arange(1,g1_test.ndata['feat'].shape[0],1)\n",
    "preds = test_pred[nodes].cpu().detach().numpy()\n",
    "labels = label_test[nodes].cpu().detach().numpy()\n",
    "plt.scatter(preds, labels, c=labels, cmap='rainbow')\n",
    "plt.xlabel('Predicted value')\n",
    "plt.ylabel('Actual value')\n",
    "plt.title('Comparison of predicted and actual values for randomly selected nodes')\n",
    "plt.xlim(-30,100)\n",
    "plt.ylim(-30,100)\n",
    "ax = plt.gca()\n",
    "ax.set_aspect(1)#横纵坐标比例\n",
    "\n",
    "plt.show()"
   ]
  },
  {
   "cell_type": "code",
   "execution_count": null,
   "id": "e8582321",
   "metadata": {},
   "outputs": [],
   "source": []
  }
 ],
 "metadata": {
  "kernelspec": {
   "display_name": "Python 3",
   "language": "python",
   "name": "python3"
  },
  "language_info": {
   "codemirror_mode": {
    "name": "ipython",
    "version": 3
   },
   "file_extension": ".py",
   "mimetype": "text/x-python",
   "name": "python",
   "nbconvert_exporter": "python",
   "pygments_lexer": "ipython3",
   "version": "3.7.4"
  }
 },
 "nbformat": 4,
 "nbformat_minor": 5
}
