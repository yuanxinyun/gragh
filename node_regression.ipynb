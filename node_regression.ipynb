{
 "cells": [
  {
   "cell_type": "code",
   "execution_count": 86,
   "id": "94f3ae50",
   "metadata": {},
   "outputs": [],
   "source": [
    "import dgl\n",
    "import torch\n",
    "from dgl.data.utils import save_graphs\n",
    "\n",
    "(g1,), _ = dgl.load_graphs('graph.dgl')\n",
    "(g2,), _ = dgl.load_graphs('graph2.dgl')\n",
    "(g3,), _ = dgl.load_graphs('graph3.dgl')\n"
   ]
  },
  {
   "cell_type": "code",
   "execution_count": 87,
   "id": "9d9e7ec5",
   "metadata": {},
   "outputs": [],
   "source": [
    "g=g1"
   ]
  },
  {
   "cell_type": "code",
   "execution_count": 88,
   "id": "86ad2e91",
   "metadata": {},
   "outputs": [
    {
     "data": {
      "text/plain": [
       "Graph(num_nodes=3531, num_edges=8732,\n",
       "      ndata_schemes={'O_WSPD': Scheme(shape=(1,), dtype=torch.float32), 'CRS_DEP_TIME': Scheme(shape=(1,), dtype=torch.float32), 'DEP_DELAY': Scheme(shape=(1,), dtype=torch.float32), 'WHEELS_OFF': Scheme(shape=(1,), dtype=torch.float32), 'O_LATITUDE': Scheme(shape=(1,), dtype=torch.float32), 'CRS_ARR_TIME': Scheme(shape=(1,), dtype=torch.float32), 'ARR_DELAY': Scheme(shape=(1,), dtype=torch.float32), 'DEST': Scheme(shape=(1,), dtype=torch.float32), 'ORIGIN': Scheme(shape=(1,), dtype=torch.float32), 'O_LONGITUDE': Scheme(shape=(1,), dtype=torch.float32), 'D_LATITUDE': Scheme(shape=(1,), dtype=torch.float32), 'D_LONGITUDE': Scheme(shape=(1,), dtype=torch.float32), 'DISTANCE': Scheme(shape=(1,), dtype=torch.float32), 'O_TEMP': Scheme(shape=(1,), dtype=torch.float32), 'O_PRCP': Scheme(shape=(1,), dtype=torch.float32), 'D_TEMP': Scheme(shape=(1,), dtype=torch.float32), 'feat': Scheme(shape=(10,), dtype=torch.float32), 'D_PRCP': Scheme(shape=(1,), dtype=torch.float32), 'D_WSPD': Scheme(shape=(1,), dtype=torch.float32), 'label': Scheme(shape=(1,), dtype=torch.float32)}\n",
       "      edata_schemes={'AIRCRAFT_NUM': Scheme(shape=(1,), dtype=torch.float32), 'INTERVAL_TIME': Scheme(shape=(1,), dtype=torch.float32), 'AIRPORT': Scheme(shape=(1,), dtype=torch.float32)})"
      ]
     },
     "execution_count": 88,
     "metadata": {},
     "output_type": "execute_result"
    }
   ],
   "source": [
    "g"
   ]
  },
  {
   "cell_type": "code",
   "execution_count": 89,
   "id": "c352d1dc",
   "metadata": {},
   "outputs": [
    {
     "name": "stdout",
     "output_type": "stream",
     "text": [
      "使用设备: cuda\n"
     ]
    }
   ],
   "source": [
    "# 检查是否有GPU可用\n",
    "device = torch.device('cuda' if torch.cuda.is_available() else 'cpu')\n",
    "print('使用设备:', device)"
   ]
  },
  {
   "cell_type": "code",
   "execution_count": 90,
   "id": "b5f4c1c9",
   "metadata": {},
   "outputs": [],
   "source": [
    "node_features = g.ndata['feat']\n",
    "node_labels = g.ndata['label']\n",
    "# 将图，节点特征和节点标签移动到GPU\n",
    "g = g.to(device)\n",
    "node_features = node_features.to(device)\n",
    "node_labels = node_labels.to(device)"
   ]
  },
  {
   "cell_type": "code",
   "execution_count": 91,
   "id": "a3bb8725",
   "metadata": {},
   "outputs": [
    {
     "name": "stdout",
     "output_type": "stream",
     "text": [
      "tensor([[ 42.9405, -78.7322,  33.6404,  ...,  22.3000,   0.0000,  14.8000],\n",
      "        [ 33.6404, -84.4269,  27.9755,  ...,  14.8000,   0.0000,   0.0000],\n",
      "        [ 27.9755, -82.5332,  41.4109,  ...,   0.0000,   0.0000,  29.5000],\n",
      "        ...,\n",
      "        [ 27.9755, -82.5332,  41.9389,  ...,   9.4000,   0.0000,  18.4000],\n",
      "        [ 38.8521, -77.0377,  33.6404,  ...,  13.0000,   0.0000,  16.6000],\n",
      "        [ 33.6404, -84.4269,  44.8806,  ...,  14.8000,   0.0000,  24.1000]],\n",
      "       device='cuda:0')\n",
      "tensor([[  6.],\n",
      "        [ -9.],\n",
      "        [-20.],\n",
      "        ...,\n",
      "        [219.],\n",
      "        [ -9.],\n",
      "        [-12.]], device='cuda:0')\n"
     ]
    }
   ],
   "source": [
    "print(g.ndata['feat'])\n",
    "print(g.ndata['label'])"
   ]
  },
  {
   "cell_type": "code",
   "execution_count": 92,
   "id": "f3096705",
   "metadata": {},
   "outputs": [],
   "source": [
    "#g.adj()\n",
    "#g.num_nodes()"
   ]
  },
  {
   "cell_type": "code",
   "execution_count": null,
   "id": "cfa2c9f9",
   "metadata": {},
   "outputs": [],
   "source": []
  },
  {
   "cell_type": "code",
   "execution_count": 93,
   "id": "da8539b0",
   "metadata": {},
   "outputs": [
    {
     "name": "stdout",
     "output_type": "stream",
     "text": [
      "Train mask: tensor([False,  True,  True,  ..., False,  True, False])\n",
      "Test mask: tensor([ True, False, False,  ...,  True, False,  True])\n",
      "Valid mask: tensor([False, False, False,  ..., False, False, False])\n"
     ]
    }
   ],
   "source": [
    "from sklearn.model_selection import train_test_split\n",
    "import numpy as np\n",
    "num = g.num_nodes()\n",
    "\n",
    "indices = np.arange(num)\n",
    "\n",
    "train_indices, test_indices = train_test_split(indices, test_size=0.2, random_state=42)\n",
    "\n",
    "train_mask = torch.zeros(num, dtype=torch.bool)\n",
    "test_mask = torch.zeros(num, dtype=torch.bool)\n",
    "train_mask[train_indices] = True\n",
    "test_mask[test_indices] = True\n",
    "\n",
    "train_indices, valid_indices = train_test_split(train_indices, test_size=0.2, random_state=42)\n",
    "\n",
    "valid_mask = torch.zeros(num, dtype=torch.bool)\n",
    "valid_mask[valid_indices] = True\n",
    "\n",
    "print(\"Train mask:\", train_mask)\n",
    "print(\"Test mask:\", test_mask)\n",
    "print(\"Valid mask:\", valid_mask)"
   ]
  },
  {
   "cell_type": "code",
   "execution_count": 94,
   "id": "a7e2bffd",
   "metadata": {},
   "outputs": [
    {
     "name": "stdout",
     "output_type": "stream",
     "text": [
      "10\n",
      "1\n"
     ]
    }
   ],
   "source": [
    "n_features = node_features.shape[1]\n",
    "n_labels = 1\n",
    "print(n_features)\n",
    "print(n_labels)"
   ]
  },
  {
   "cell_type": "code",
   "execution_count": 95,
   "id": "c3b3578d",
   "metadata": {},
   "outputs": [],
   "source": [
    "    # 构建一个2层的GNN模型\n",
    "    import dgl.nn as dglnn\n",
    "    import torch.nn as nn\n",
    "    import torch.nn.functional as F\n",
    "    class SAGE(nn.Module):\n",
    "        def __init__(self, in_feats, hid_feats, out_feats):\n",
    "            super().__init__()\n",
    "            # 实例化SAGEConve，in_feats是输入特征的维度，out_feats是输出特征的维度，aggregator_type是聚合函数的类型\n",
    "            self.conv1 = dglnn.SAGEConv(\n",
    "                in_feats=in_feats, out_feats=hid_feats, aggregator_type='mean')\n",
    "            self.conv2 = dglnn.SAGEConv(\n",
    "                in_feats=hid_feats, out_feats=out_feats, aggregator_type='mean')\n",
    "      \n",
    "        def forward(self, graph, inputs):\n",
    "            # 输入是节点的特征\n",
    "            h = self.conv1(graph, inputs)\n",
    "            h = F.relu(h)\n",
    "            h = self.conv2(graph, h)\n",
    "            return h"
   ]
  },
  {
   "cell_type": "code",
   "execution_count": null,
   "id": "faa32362",
   "metadata": {},
   "outputs": [],
   "source": [
    "    # 导入matplotlib.pyplot模块\n",
    "    import matplotlib.pyplot as plt\n",
    "\n",
    "    loss_list = []\n",
    "    loss_test_list = []\n",
    "\n",
    "    import time\n",
    "\n",
    "    start_time = time.time()\n",
    "    \n",
    "\n",
    "    model = SAGE(in_feats=n_features, hid_feats=300, out_feats=1).to(device)\n",
    "    opt = torch.optim.Adam(model.parameters())\n",
    "    \n",
    "    for epoch in range(5000):\n",
    "        model.train()\n",
    "        pred = model(g, node_features)\n",
    "        loss = F.mse_loss(pred[train_mask], node_labels[train_mask])\n",
    "        loss_test=F.mse_loss(pred[test_mask],node_labels[test_mask])\n",
    "\n",
    "        # 进行反向传播计算\n",
    "        opt.zero_grad()\n",
    "        loss.backward()\n",
    "        opt.step()\n",
    "        #print(loss.item())\n",
    "        #print('In epoch {}, loss: {:.3f}, val acc: {:.3f} (best {:.3f}), test acc: {:.3f} (best {:.3f})'.format(e, loss, val_acc, best_val_acc, test_acc, best_test_acc))\n",
    "        #print(loss_test.item())\n",
    "        # 将损失值添加到列表中\n",
    "        loss_list.append(loss.item())\n",
    "        loss_test_list.append(loss_test.item())\n",
    "        #print(acc)\n",
    "    \n",
    "    end_time = time.time()\n",
    "    elapsed_time = end_time - start_time\n",
    "    print(f\"Training took {elapsed_time} seconds.\")\n",
    "    \n",
    "\n",
    "    loss_train = np.array(loss_list)\n",
    "    loss_test = np.array(loss_test_list)\n",
    "    plt.plot(loss_train, label=\"Train loss\")\n",
    "    plt.plot(loss_test, label=\"Test loss\")\n",
    "    plt.xlabel(\"Epoch\")\n",
    "    plt.ylabel(\"Loss\")\n",
    "    plt.title(\"Loss Curve\")\n",
    "    plt.legend()\n",
    "    plt.savefig(\"loss_plot.png\", dpi=1000)\n",
    "    plt.show()"
   ]
  },
  {
   "cell_type": "code",
   "execution_count": 115,
   "id": "1c0ee9ef",
   "metadata": {
    "scrolled": true
   },
   "outputs": [
    {
     "data": {
      "image/png": "[encoded data removed]",
      "text/plain": [
       "<Figure size 432x288 with 1 Axes>"
      ]
     },
     "metadata": {
      "needs_background": "light"
     },
     "output_type": "display_data"
    }
   ],
   "source": [
    "    plt.plot(loss_train, label=\"Train loss\")\n",
    "    plt.plot(loss_test, label=\"Test loss\")\n",
    "    plt.xlabel(\"Epoch\")\n",
    "    plt.ylabel(\"Loss\")\n",
    "    plt.title(\"Loss Curve\")\n",
    "    plt.legend()\n",
    "    plt.savefig(\"loss_plot.png\", dpi=1000)\n",
    "    plt.ylim(50, 200)\n",
    "    plt.show()"
   ]
  },
  {
   "cell_type": "code",
   "execution_count": 108,
   "id": "2eec1256",
   "metadata": {},
   "outputs": [],
   "source": [
    "pred = model(g, node_features)"
   ]
  },
  {
   "cell_type": "code",
   "execution_count": 109,
   "id": "23040f06",
   "metadata": {},
   "outputs": [
    {
     "data": {
      "text/plain": [
       "tensor([-5.7924], device='cuda:0', grad_fn=<SelectBackward0>)"
      ]
     },
     "execution_count": 109,
     "metadata": {},
     "output_type": "execute_result"
    }
   ],
   "source": [
    "pred[5]"
   ]
  },
  {
   "cell_type": "code",
   "execution_count": 110,
   "id": "3a77a6fb",
   "metadata": {},
   "outputs": [
    {
     "data": {
      "text/plain": [
       "tensor([4.], device='cuda:0')"
      ]
     },
     "execution_count": 110,
     "metadata": {},
     "output_type": "execute_result"
    }
   ],
   "source": [
    "node_labels[5]"
   ]
  },
  {
   "cell_type": "code",
   "execution_count": 111,
   "id": "0d785c2e",
   "metadata": {},
   "outputs": [
    {
     "name": "stdout",
     "output_type": "stream",
     "text": [
      "tensor([-6.7852], device='cuda:0', grad_fn=<SelectBackward0>)\n",
      "tensor([-19.], device='cuda:0')\n"
     ]
    }
   ],
   "source": [
    "i=655\n",
    "print(pred[i])\n",
    "print(node_labels[i])"
   ]
  },
  {
   "cell_type": "code",
   "execution_count": 112,
   "id": "5573c400",
   "metadata": {},
   "outputs": [
    {
     "name": "stdout",
     "output_type": "stream",
     "text": [
      "Accuracy: 0.9334466156896063\n",
      "Precision: 0.777027027027027\n",
      "Recall: 0.7172557172557172\n",
      "F1 score: 0.7459459459459459\n"
     ]
    }
   ],
   "source": [
    "# 导入sklearn库中的metrics模块\n",
    "from sklearn import metrics\n",
    "\n",
    "# 定义一个函数，根据值是否大于15，将其转化为1或0\n",
    "def binarize(x):\n",
    "    if x > 15:\n",
    "        return 1\n",
    "    else:\n",
    "        return 0\n",
    "\n",
    "# 使用列表推导式，将node_labels和pred中的每个元素都应用binarize函数，得到二值化的列表\n",
    "node_labels_bin = [binarize(x) for x in node_labels]\n",
    "pred_bin = [binarize(x) for x in pred]\n",
    "\n",
    "# 使用metrics模块中的函数，计算准确率、召回率等特征\n",
    "accuracy = metrics.accuracy_score(node_labels_bin, pred_bin)\n",
    "precision = metrics.precision_score(node_labels_bin, pred_bin)\n",
    "recall = metrics.recall_score(node_labels_bin, pred_bin)\n",
    "f1 = metrics.f1_score(node_labels_bin, pred_bin)\n",
    "\n",
    "# 打印结果\n",
    "print(f\"Accuracy: {accuracy}\")\n",
    "print(f\"Precision: {precision}\")\n",
    "print(f\"Recall: {recall}\")\n",
    "print(f\"F1 score: {f1}\")\n"
   ]
  },
  {
   "cell_type": "code",
   "execution_count": 113,
   "id": "5b895196",
   "metadata": {},
   "outputs": [
    {
     "data": {
      "image/png": "[encoded data removed]",
      "text/plain": [
       "<Figure size 432x288 with 1 Axes>"
      ]
     },
     "metadata": {
      "needs_background": "light"
     },
     "output_type": "display_data"
    }
   ],
   "source": [
    "# 导入sklearn库中的metrics模块\n",
    "from sklearn import metrics\n",
    "\n",
    "# 使用roc_curve()函数，计算真正率和假正率\n",
    "fpr, tpr, thresholds = metrics.roc_curve(node_labels_bin, pred_bin)\n",
    "# 使用auc()函数，计算AUC值\n",
    "auc = metrics.auc(fpr, tpr)\n",
    "# 使用matplotlib库，绘制AUC曲线\n",
    "import matplotlib.pyplot as plt\n",
    "plt.plot(fpr, tpr, label=f\"AUC = {auc:.2f}\")\n",
    "plt.xlabel(\"False Positive Rate\")\n",
    "plt.ylabel(\"True Positive Rate\")\n",
    "plt.legend()\n",
    "plt.show()\n"
   ]
  },
  {
   "cell_type": "code",
   "execution_count": null,
   "id": "f0481c1b",
   "metadata": {},
   "outputs": [],
   "source": []
  }
 ],
 "metadata": {
  "kernelspec": {
   "display_name": "Python 3",
   "language": "python",
   "name": "python3"
  },
  "language_info": {
   "codemirror_mode": {
    "name": "ipython",
    "version": 3
   },
   "file_extension": ".py",
   "mimetype": "text/x-python",
   "name": "python",
   "nbconvert_exporter": "python",
   "pygments_lexer": "ipython3",
   "version": "3.7.4"
  }
 },
 "nbformat": 4,
 "nbformat_minor": 5
}
