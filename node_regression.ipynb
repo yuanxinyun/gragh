{
 "cells": [
  {
   "cell_type": "code",
   "execution_count": 1,
   "id": "123abb3a",
   "metadata": {},
   "outputs": [],
   "source": [
    "import dgl\n",
    "import torch\n",
    "from dgl.data.utils import save_graphs\n",
    "\n",
    "(g1,), _ = dgl.load_graphs('graph.dgl')\n",
    "(g2,), _ = dgl.load_graphs('graph2.dgl')\n",
    "(g3,), _ = dgl.load_graphs('graph3.dgl')\n"
   ]
  },
  {
   "cell_type": "code",
   "execution_count": 2,
   "id": "a3a9bbe0",
   "metadata": {},
   "outputs": [],
   "source": [
    "g=g1"
   ]
  },
  {
   "cell_type": "code",
   "execution_count": 3,
   "id": "a887287b",
   "metadata": {},
   "outputs": [
    {
     "data": {
      "text/plain": [
       "Graph(num_nodes=2916, num_edges=6642,\n",
       "      ndata_schemes={'feat': Scheme(shape=(4,), dtype=torch.float32), 'CRS_DEP_TIME': Scheme(shape=(1,), dtype=torch.float32), 'DEP_DELAY': Scheme(shape=(1,), dtype=torch.float32), 'WHEELS_OFF': Scheme(shape=(1,), dtype=torch.float32), 'CRS_ARR_TIME': Scheme(shape=(1,), dtype=torch.float32), 'ARR_DELAY': Scheme(shape=(1,), dtype=torch.float32), 'DEST': Scheme(shape=(1,), dtype=torch.float32), 'ORIGIN': Scheme(shape=(1,), dtype=torch.float32), 'label': Scheme(shape=(1,), dtype=torch.float32)}\n",
       "      edata_schemes={'AIRCRAFT_NUM': Scheme(shape=(1,), dtype=torch.float32), 'INTERVAL_TIME': Scheme(shape=(1,), dtype=torch.float32), 'AIRPORT': Scheme(shape=(1,), dtype=torch.float32)})"
      ]
     },
     "execution_count": 3,
     "metadata": {},
     "output_type": "execute_result"
    }
   ],
   "source": [
    "g"
   ]
  },
  {
   "cell_type": "code",
   "execution_count": 4,
   "id": "2ef70ae3",
   "metadata": {},
   "outputs": [
    {
     "name": "stdout",
     "output_type": "stream",
     "text": [
      "使用设备: cuda\n"
     ]
    }
   ],
   "source": [
    "# 检查是否有GPU可用\n",
    "device = torch.device('cuda' if torch.cuda.is_available() else 'cpu')\n",
    "print('使用设备:', device)"
   ]
  },
  {
   "cell_type": "code",
   "execution_count": 6,
   "id": "78d717e8",
   "metadata": {},
   "outputs": [],
   "source": [
    "node_features = g.ndata['feat']\n",
    "node_labels = g.ndata['label']\n",
    "# 将图，节点特征和节点标签移动到GPU\n",
    "g = g.to(device)\n",
    "node_features = node_features.to(device)\n",
    "node_labels = node_labels.to(device)"
   ]
  },
  {
   "cell_type": "code",
   "execution_count": 7,
   "id": "204c6831",
   "metadata": {},
   "outputs": [
    {
     "name": "stdout",
     "output_type": "stream",
     "text": [
      "tensor([[  49.,   20., -180.,   38.],\n",
      "        [  20.,  303., -360.,   15.],\n",
      "        [ 303.,   37., -300.,    8.],\n",
      "        ...,\n",
      "        [ 235.,  166.,  360.,   15.],\n",
      "        [  64.,  278.,  300.,   14.],\n",
      "        [  20.,  243.,  -60.,   26.]], device='cuda:0')\n",
      "tensor([[  6.],\n",
      "        [ -9.],\n",
      "        [ -9.],\n",
      "        ...,\n",
      "        [-11.],\n",
      "        [-36.],\n",
      "        [-13.]], device='cuda:0')\n"
     ]
    }
   ],
   "source": [
    "print(g.ndata['feat'])\n",
    "print(g.ndata['label'])"
   ]
  },
  {
   "cell_type": "code",
   "execution_count": 8,
   "id": "0ab08fc8",
   "metadata": {},
   "outputs": [
    {
     "data": {
      "text/plain": [
       "tensor(indices=tensor([[   0,    1,    2,  ..., 2914, 2914,    0],\n",
       "                       [   1,    2,    3,  ..., 1941, 1944, 2915]]),\n",
       "       values=tensor([1., 1., 1.,  ..., 1., 1., 1.]),\n",
       "       size=(2916, 2916), nnz=6642, layout=torch.sparse_coo)"
      ]
     },
     "execution_count": 8,
     "metadata": {},
     "output_type": "execute_result"
    }
   ],
   "source": [
    "#g.adj()\n",
    "#g.num_nodes()"
   ]
  },
  {
   "cell_type": "code",
   "execution_count": 9,
   "id": "6db25000",
   "metadata": {},
   "outputs": [
    {
     "data": {
      "text/plain": [
       "2916"
      ]
     },
     "execution_count": 9,
     "metadata": {},
     "output_type": "execute_result"
    }
   ],
   "source": []
  },
  {
   "cell_type": "code",
   "execution_count": 42,
   "id": "78112969",
   "metadata": {},
   "outputs": [
    {
     "name": "stdout",
     "output_type": "stream",
     "text": [
      "Train mask: tensor([ True,  True,  True,  ...,  True, False, False])\n",
      "Test mask: tensor([False, False, False,  ..., False,  True,  True])\n",
      "Valid mask: tensor([False, False,  True,  ..., False, False, False])\n"
     ]
    }
   ],
   "source": [
    "from sklearn.model_selection import train_test_split\n",
    "\n",
    "num = g.num_nodes()\n",
    "\n",
    "indices = np.arange(num)\n",
    "\n",
    "train_indices, test_indices = train_test_split(indices, test_size=0.2, random_state=42)\n",
    "\n",
    "train_mask = torch.zeros(num, dtype=torch.bool)\n",
    "test_mask = torch.zeros(num, dtype=torch.bool)\n",
    "train_mask[train_indices] = True\n",
    "test_mask[test_indices] = True\n",
    "\n",
    "train_indices, valid_indices = train_test_split(train_indices, test_size=0.2, random_state=42)\n",
    "\n",
    "valid_mask = torch.zeros(num, dtype=torch.bool)\n",
    "valid_mask[valid_indices] = True\n",
    "\n",
    "print(\"Train mask:\", train_mask)\n",
    "print(\"Test mask:\", test_mask)\n",
    "print(\"Valid mask:\", valid_mask)"
   ]
  },
  {
   "cell_type": "code",
   "execution_count": 43,
   "id": "e8427f3d",
   "metadata": {},
   "outputs": [
    {
     "name": "stdout",
     "output_type": "stream",
     "text": [
      "4\n",
      "1\n"
     ]
    }
   ],
   "source": [
    "n_features = node_features.shape[1]\n",
    "n_labels = 1\n",
    "print(n_features)\n",
    "print(n_labels)"
   ]
  },
  {
   "cell_type": "code",
   "execution_count": 44,
   "id": "0e678925",
   "metadata": {},
   "outputs": [],
   "source": [
    "    # 构建一个2层的GNN模型\n",
    "    import dgl.nn as dglnn\n",
    "    import torch.nn as nn\n",
    "    import torch.nn.functional as F\n",
    "    class SAGE(nn.Module):\n",
    "        def __init__(self, in_feats, hid_feats, out_feats):\n",
    "            super().__init__()\n",
    "            # 实例化SAGEConve，in_feats是输入特征的维度，out_feats是输出特征的维度，aggregator_type是聚合函数的类型\n",
    "            self.conv1 = dglnn.SAGEConv(\n",
    "                in_feats=in_feats, out_feats=hid_feats, aggregator_type='mean')\n",
    "            self.conv2 = dglnn.SAGEConv(\n",
    "                in_feats=hid_feats, out_feats=out_feats, aggregator_type='mean')\n",
    "      \n",
    "        def forward(self, graph, inputs):\n",
    "            # 输入是节点的特征\n",
    "            h = self.conv1(graph, inputs)\n",
    "            h = F.relu(h)\n",
    "            h = self.conv2(graph, h)\n",
    "            return h"
   ]
  },
  {
   "cell_type": "code",
   "execution_count": 45,
   "id": "64713d3f",
   "metadata": {},
   "outputs": [],
   "source": [
    "def evaluate(model, graph, features, labels, mask):\n",
    "    model.eval()\n",
    "    with torch.no_grad():\n",
    "        pred = model(graph, features)\n",
    "        pred = logits[mask]\n",
    "        labels = labels[mask]\n",
    "        z = torch.cat([labels, pred], dim=1)\n",
    "        corr = torch.corrcoef(z)\n",
    "        print(corr)\n",
    "        return corr"
   ]
  },
  {
   "cell_type": "code",
   "execution_count": 89,
   "id": "aeef1b30",
   "metadata": {},
   "outputs": [
    {
     "name": "stdout",
     "output_type": "stream",
     "text": [
      "Training took 3.7868492603302 seconds.\n"
     ]
    },
    {
     "data": {
      "image/png": "[encoded data removed]",
      "text/plain": [
       "<Figure size 432x288 with 1 Axes>"
      ]
     },
     "metadata": {
      "needs_background": "light"
     },
     "output_type": "display_data"
    }
   ],
   "source": [
    "    # 导入matplotlib.pyplot模块\n",
    "    import matplotlib.pyplot as plt\n",
    "\n",
    "    loss_list = []\n",
    "    loss_test_list = []\n",
    "\n",
    "    import time\n",
    "\n",
    "    start_time = time.time()\n",
    "    \n",
    "\n",
    "    model = SAGE(in_feats=n_features, hid_feats=1000, out_feats=1).to(device)\n",
    "    opt = torch.optim.Adam(model.parameters())\n",
    "    \n",
    "    for epoch in range(1000):\n",
    "        model.train()\n",
    "        pred = model(g, node_features)\n",
    "        loss = F.mse_loss(pred[train_mask], node_labels[train_mask])\n",
    "        loss_test=F.mse_loss(pred[test_mask],node_labels[test_mask])\n",
    "\n",
    "        # 进行反向传播计算\n",
    "        opt.zero_grad()\n",
    "        loss.backward()\n",
    "        opt.step()\n",
    "        #print(loss.item())\n",
    "        #print('In epoch {}, loss: {:.3f}, val acc: {:.3f} (best {:.3f}), test acc: {:.3f} (best {:.3f})'.format(e, loss, val_acc, best_val_acc, test_acc, best_test_acc))\n",
    "        #print(loss_test.item())\n",
    "        # 将损失值添加到列表中\n",
    "        loss_list.append(loss.item())\n",
    "        loss_test_list.append(loss_test.item())\n",
    "        #print(acc)\n",
    "    \n",
    "    end_time = time.time()\n",
    "    elapsed_time = end_time - start_time\n",
    "    print(f\"Training took {elapsed_time} seconds.\")\n",
    "    \n",
    "\n",
    "    loss_train = np.array(loss_list)\n",
    "    loss_test = np.array(loss_test_list)\n",
    "    plt.plot(loss_train, label=\"Train loss\")\n",
    "    plt.plot(loss_test, label=\"Test loss\")\n",
    "    plt.xlabel(\"Epoch\")\n",
    "    plt.ylabel(\"Loss\")\n",
    "    plt.title(\"Loss Curve\")\n",
    "    plt.legend()\n",
    "    plt.savefig(\"loss_plot.png\", dpi=1000)\n",
    "    plt.show()"
   ]
  },
  {
   "cell_type": "code",
   "execution_count": 90,
   "id": "1962709c",
   "metadata": {
    "scrolled": true
   },
   "outputs": [
    {
     "data": {
      "image/png": "[encoded data removed]",
      "text/plain": [
       "<Figure size 432x288 with 1 Axes>"
      ]
     },
     "metadata": {
      "needs_background": "light"
     },
     "output_type": "display_data"
    }
   ],
   "source": [
    "    plt.plot(loss_train, label=\"Train loss\")\n",
    "    plt.plot(loss_test, label=\"Test loss\")\n",
    "    plt.xlabel(\"Epoch\")\n",
    "    plt.ylabel(\"Loss\")\n",
    "    plt.title(\"Loss Curve\")\n",
    "    plt.legend()\n",
    "    plt.savefig(\"loss_plot.png\", dpi=1000)\n",
    "    plt.ylim(0, 400)\n",
    "    plt.show()"
   ]
  },
  {
   "cell_type": "code",
   "execution_count": null,
   "id": "2bfc1d8a",
   "metadata": {},
   "outputs": [],
   "source": []
  }
 ],
 "metadata": {
  "kernelspec": {
   "display_name": "Python 3",
   "language": "python",
   "name": "python3"
  },
  "language_info": {
   "codemirror_mode": {
    "name": "ipython",
    "version": 3
   },
   "file_extension": ".py",
   "mimetype": "text/x-python",
   "name": "python",
   "nbconvert_exporter": "python",
   "pygments_lexer": "ipython3",
   "version": "3.7.4"
  }
 },
 "nbformat": 4,
 "nbformat_minor": 5
}
